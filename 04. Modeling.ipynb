{
 "cells": [
  {
   "cell_type": "markdown",
   "metadata": {},
   "source": [
    "# Data Modeling"
   ]
  },
  {
   "cell_type": "markdown",
   "metadata": {},
   "source": [
    "### High Level Approach\n",
    "- Limiting the number of non fraudulent transactions from the dataset in order to make the extreme class imbalance (1:1000) to an imbalance of lower order.\n",
    "- Splitting of data into train,test\n",
    "- Logistic Regression with Grid Search\n",
    "- RandomForestClassifier with Randomized Search\n",
    "\n",
    "- Solving for the imbalance in dataset\n",
    "    - SMOTE\n",
    "        - Using SMOTE for oversampling of the data\n",
    "- Testing results using totally unseen data to understand how the model would perform in a production setup\n",
    "\n",
    "#### Metrics Used:\n",
    "- Precision\n",
    "- Recall\n",
    "- Roc Auc Score\n",
    "    "
   ]
  },
  {
   "cell_type": "code",
   "execution_count": 1,
   "metadata": {},
   "outputs": [],
   "source": [
    "%matplotlib inline\n",
    "\n",
    "import pandas as pd\n",
    "import numpy as np\n",
    "import seaborn as sns\n",
    "from matplotlib import pyplot as plt\n",
    "import os\n",
    "\n",
    "#import required modules from scikit-learn\n",
    "from sklearn.model_selection import train_test_split, GridSearchCV, RandomizedSearchCV\n",
    "from sklearn.metrics import roc_auc_score, confusion_matrix, plot_confusion_matrix,precision_score, recall_score\n",
    "from sklearn.preprocessing import StandardScaler\n",
    "from sklearn.metrics import roc_curve\n",
    "\n",
    "#import algorithms modules\n",
    "from sklearn.linear_model import LogisticRegression\n",
    "from sklearn.ensemble import RandomForestClassifier\n",
    "from sklearn.cluster import KMeans"
   ]
  },
  {
   "cell_type": "code",
   "execution_count": 2,
   "metadata": {},
   "outputs": [],
   "source": [
    "libdir = os.chdir(r'C:\\Users\\Nidhi\\Desktop\\Saransh\\FraudDetection')"
   ]
  },
  {
   "cell_type": "code",
   "execution_count": 3,
   "metadata": {},
   "outputs": [
    {
     "data": {
      "text/html": [
       "<div>\n",
       "<style scoped>\n",
       "    .dataframe tbody tr th:only-of-type {\n",
       "        vertical-align: middle;\n",
       "    }\n",
       "\n",
       "    .dataframe tbody tr th {\n",
       "        vertical-align: top;\n",
       "    }\n",
       "\n",
       "    .dataframe thead th {\n",
       "        text-align: right;\n",
       "    }\n",
       "</style>\n",
       "<table border=\"1\" class=\"dataframe\">\n",
       "  <thead>\n",
       "    <tr style=\"text-align: right;\">\n",
       "      <th></th>\n",
       "      <th>amount</th>\n",
       "      <th>oldbalanceOrg</th>\n",
       "      <th>newbalanceOrig</th>\n",
       "      <th>oldbalanceDest</th>\n",
       "      <th>newbalanceDest</th>\n",
       "      <th>isFraud</th>\n",
       "      <th>isFlaggedFraud</th>\n",
       "      <th>isMerchant</th>\n",
       "      <th>type_CASH_IN</th>\n",
       "      <th>type_CASH_OUT</th>\n",
       "      <th>type_DEBIT</th>\n",
       "      <th>type_PAYMENT</th>\n",
       "      <th>type_TRANSFER</th>\n",
       "    </tr>\n",
       "  </thead>\n",
       "  <tbody>\n",
       "    <tr>\n",
       "      <th>0</th>\n",
       "      <td>9839.64</td>\n",
       "      <td>170136.00</td>\n",
       "      <td>160296.36</td>\n",
       "      <td>0.0</td>\n",
       "      <td>0.00</td>\n",
       "      <td>0</td>\n",
       "      <td>0</td>\n",
       "      <td>1</td>\n",
       "      <td>0</td>\n",
       "      <td>0</td>\n",
       "      <td>0</td>\n",
       "      <td>1</td>\n",
       "      <td>0</td>\n",
       "    </tr>\n",
       "    <tr>\n",
       "      <th>1</th>\n",
       "      <td>1864.28</td>\n",
       "      <td>21249.00</td>\n",
       "      <td>19384.72</td>\n",
       "      <td>0.0</td>\n",
       "      <td>0.00</td>\n",
       "      <td>0</td>\n",
       "      <td>0</td>\n",
       "      <td>1</td>\n",
       "      <td>0</td>\n",
       "      <td>0</td>\n",
       "      <td>0</td>\n",
       "      <td>1</td>\n",
       "      <td>0</td>\n",
       "    </tr>\n",
       "    <tr>\n",
       "      <th>2</th>\n",
       "      <td>181.00</td>\n",
       "      <td>181.00</td>\n",
       "      <td>0.00</td>\n",
       "      <td>0.0</td>\n",
       "      <td>0.00</td>\n",
       "      <td>1</td>\n",
       "      <td>0</td>\n",
       "      <td>0</td>\n",
       "      <td>0</td>\n",
       "      <td>0</td>\n",
       "      <td>0</td>\n",
       "      <td>0</td>\n",
       "      <td>1</td>\n",
       "    </tr>\n",
       "    <tr>\n",
       "      <th>3</th>\n",
       "      <td>181.00</td>\n",
       "      <td>181.00</td>\n",
       "      <td>0.00</td>\n",
       "      <td>21182.0</td>\n",
       "      <td>0.00</td>\n",
       "      <td>1</td>\n",
       "      <td>0</td>\n",
       "      <td>0</td>\n",
       "      <td>0</td>\n",
       "      <td>1</td>\n",
       "      <td>0</td>\n",
       "      <td>0</td>\n",
       "      <td>0</td>\n",
       "    </tr>\n",
       "    <tr>\n",
       "      <th>4</th>\n",
       "      <td>11668.14</td>\n",
       "      <td>41554.00</td>\n",
       "      <td>29885.86</td>\n",
       "      <td>0.0</td>\n",
       "      <td>0.00</td>\n",
       "      <td>0</td>\n",
       "      <td>0</td>\n",
       "      <td>1</td>\n",
       "      <td>0</td>\n",
       "      <td>0</td>\n",
       "      <td>0</td>\n",
       "      <td>1</td>\n",
       "      <td>0</td>\n",
       "    </tr>\n",
       "    <tr>\n",
       "      <th>5</th>\n",
       "      <td>7817.71</td>\n",
       "      <td>53860.00</td>\n",
       "      <td>46042.29</td>\n",
       "      <td>0.0</td>\n",
       "      <td>0.00</td>\n",
       "      <td>0</td>\n",
       "      <td>0</td>\n",
       "      <td>1</td>\n",
       "      <td>0</td>\n",
       "      <td>0</td>\n",
       "      <td>0</td>\n",
       "      <td>1</td>\n",
       "      <td>0</td>\n",
       "    </tr>\n",
       "    <tr>\n",
       "      <th>6</th>\n",
       "      <td>7107.77</td>\n",
       "      <td>183195.00</td>\n",
       "      <td>176087.23</td>\n",
       "      <td>0.0</td>\n",
       "      <td>0.00</td>\n",
       "      <td>0</td>\n",
       "      <td>0</td>\n",
       "      <td>1</td>\n",
       "      <td>0</td>\n",
       "      <td>0</td>\n",
       "      <td>0</td>\n",
       "      <td>1</td>\n",
       "      <td>0</td>\n",
       "    </tr>\n",
       "    <tr>\n",
       "      <th>7</th>\n",
       "      <td>7861.64</td>\n",
       "      <td>176087.23</td>\n",
       "      <td>168225.59</td>\n",
       "      <td>0.0</td>\n",
       "      <td>0.00</td>\n",
       "      <td>0</td>\n",
       "      <td>0</td>\n",
       "      <td>1</td>\n",
       "      <td>0</td>\n",
       "      <td>0</td>\n",
       "      <td>0</td>\n",
       "      <td>1</td>\n",
       "      <td>0</td>\n",
       "    </tr>\n",
       "    <tr>\n",
       "      <th>8</th>\n",
       "      <td>4024.36</td>\n",
       "      <td>2671.00</td>\n",
       "      <td>0.00</td>\n",
       "      <td>0.0</td>\n",
       "      <td>0.00</td>\n",
       "      <td>0</td>\n",
       "      <td>0</td>\n",
       "      <td>1</td>\n",
       "      <td>0</td>\n",
       "      <td>0</td>\n",
       "      <td>0</td>\n",
       "      <td>1</td>\n",
       "      <td>0</td>\n",
       "    </tr>\n",
       "    <tr>\n",
       "      <th>9</th>\n",
       "      <td>5337.77</td>\n",
       "      <td>41720.00</td>\n",
       "      <td>36382.23</td>\n",
       "      <td>41898.0</td>\n",
       "      <td>40348.79</td>\n",
       "      <td>0</td>\n",
       "      <td>0</td>\n",
       "      <td>0</td>\n",
       "      <td>0</td>\n",
       "      <td>0</td>\n",
       "      <td>1</td>\n",
       "      <td>0</td>\n",
       "      <td>0</td>\n",
       "    </tr>\n",
       "  </tbody>\n",
       "</table>\n",
       "</div>"
      ],
      "text/plain": [
       "     amount  oldbalanceOrg  newbalanceOrig  oldbalanceDest  newbalanceDest  \\\n",
       "0   9839.64      170136.00       160296.36             0.0            0.00   \n",
       "1   1864.28       21249.00        19384.72             0.0            0.00   \n",
       "2    181.00         181.00            0.00             0.0            0.00   \n",
       "3    181.00         181.00            0.00         21182.0            0.00   \n",
       "4  11668.14       41554.00        29885.86             0.0            0.00   \n",
       "5   7817.71       53860.00        46042.29             0.0            0.00   \n",
       "6   7107.77      183195.00       176087.23             0.0            0.00   \n",
       "7   7861.64      176087.23       168225.59             0.0            0.00   \n",
       "8   4024.36        2671.00            0.00             0.0            0.00   \n",
       "9   5337.77       41720.00        36382.23         41898.0        40348.79   \n",
       "\n",
       "   isFraud  isFlaggedFraud  isMerchant  type_CASH_IN  type_CASH_OUT  \\\n",
       "0        0               0           1             0              0   \n",
       "1        0               0           1             0              0   \n",
       "2        1               0           0             0              0   \n",
       "3        1               0           0             0              1   \n",
       "4        0               0           1             0              0   \n",
       "5        0               0           1             0              0   \n",
       "6        0               0           1             0              0   \n",
       "7        0               0           1             0              0   \n",
       "8        0               0           1             0              0   \n",
       "9        0               0           0             0              0   \n",
       "\n",
       "   type_DEBIT  type_PAYMENT  type_TRANSFER  \n",
       "0           0             1              0  \n",
       "1           0             1              0  \n",
       "2           0             0              1  \n",
       "3           0             0              0  \n",
       "4           0             1              0  \n",
       "5           0             1              0  \n",
       "6           0             1              0  \n",
       "7           0             1              0  \n",
       "8           0             1              0  \n",
       "9           1             0              0  "
      ]
     },
     "execution_count": 3,
     "metadata": {},
     "output_type": "execute_result"
    }
   ],
   "source": [
    "file = r'./data/interim/preprocessed2.csv'\n",
    "all_data = pd.read_csv(file)\n",
    "all_data.head(10)"
   ]
  },
  {
   "cell_type": "code",
   "execution_count": 4,
   "metadata": {},
   "outputs": [],
   "source": [
    "_getpercent = int(len(all_data)*.99)\n",
    "df = all_data.iloc[0:_getpercent]\n",
    "unseenData = all_data.iloc[_getpercent:]"
   ]
  },
  {
   "cell_type": "code",
   "execution_count": 5,
   "metadata": {},
   "outputs": [
    {
     "name": "stdout",
     "output_type": "stream",
     "text": [
      "Dataset shape is: (6298993, 13) 7501\n",
      "Unseen Dataset shape is: (63627, 13) 712\n"
     ]
    }
   ],
   "source": [
    "print('Dataset shape is:',df.shape,df.isFraud.sum())\n",
    "print('Unseen Dataset shape is:',unseenData.shape,unseenData.isFraud.sum())"
   ]
  },
  {
   "cell_type": "code",
   "execution_count": 6,
   "metadata": {},
   "outputs": [
    {
     "data": {
      "text/plain": [
       "(247533, 13)"
      ]
     },
     "execution_count": 6,
     "metadata": {},
     "output_type": "execute_result"
    }
   ],
   "source": [
    "# Taking a proportion of nonFraud transactions in order to make dataset less imabalanced\n",
    "\n",
    "prop = np.random.randint(low=20, high = 40) * df[df.isFraud == 1].isFraud.sum()\n",
    "nonFraud_df = df[df.isFraud == 0].sample(n=prop)\n",
    "\n",
    "trimmed_df = pd.concat([nonFraud_df,df[df['isFraud']==1]])\n",
    "trimmed_df.shape\n"
   ]
  },
  {
   "cell_type": "code",
   "execution_count": 52,
   "metadata": {},
   "outputs": [],
   "source": [
    "np.random.randint?"
   ]
  },
  {
   "cell_type": "code",
   "execution_count": 7,
   "metadata": {},
   "outputs": [
    {
     "name": "stdout",
     "output_type": "stream",
     "text": [
      "The shape of independent dataset X is: (247533, 12)\n",
      "The shape of dependent/predicting dataset y is: (247533,)\n"
     ]
    }
   ],
   "source": [
    "#Splitting the dataset into X and y to further feed into the model(s)\n",
    "X = trimmed_df.drop('isFraud', axis = 1)\n",
    "y = trimmed_df.isFraud\n",
    "\n",
    "print('The shape of independent dataset X is:',X.shape)\n",
    "print('The shape of dependent/predicting dataset y is:',y.shape)"
   ]
  },
  {
   "cell_type": "markdown",
   "metadata": {},
   "source": [
    "<font color=blue><b>Due to the highly imbalanced nature of the dataset, it is imperative to handle the imbalanceness otherwise this may cause inaccurate results resulting in models with high accuracy scores but actually not performing well.</font></b>"
   ]
  },
  {
   "cell_type": "code",
   "execution_count": 8,
   "metadata": {},
   "outputs": [
    {
     "data": {
      "text/plain": [
       "0    240032\n",
       "1      7501\n",
       "Name: isFraud, dtype: int64"
      ]
     },
     "execution_count": 8,
     "metadata": {},
     "output_type": "execute_result"
    }
   ],
   "source": [
    "y.value_counts()"
   ]
  },
  {
   "cell_type": "code",
   "execution_count": 9,
   "metadata": {},
   "outputs": [
    {
     "name": "stdout",
     "output_type": "stream",
     "text": [
      "Requirement already satisfied: imbalanced-learn in c:\\users\\nidhi\\anaconda3\\lib\\site-packages (0.8.0)Note: you may need to restart the kernel to use updated packages.\n",
      "\n",
      "Requirement already satisfied: joblib>=0.11 in c:\\users\\nidhi\\anaconda3\\lib\\site-packages (from imbalanced-learn) (0.17.0)\n",
      "Requirement already satisfied: scikit-learn>=0.24 in c:\\users\\nidhi\\anaconda3\\lib\\site-packages (from imbalanced-learn) (0.24.2)\n",
      "Requirement already satisfied: numpy>=1.13.3 in c:\\users\\nidhi\\anaconda3\\lib\\site-packages (from imbalanced-learn) (1.19.2)\n",
      "Requirement already satisfied: scipy>=0.19.1 in c:\\users\\nidhi\\anaconda3\\lib\\site-packages (from imbalanced-learn) (1.5.2)\n",
      "Requirement already satisfied: threadpoolctl>=2.0.0 in c:\\users\\nidhi\\anaconda3\\lib\\site-packages (from scikit-learn>=0.24->imbalanced-learn) (2.1.0)\n"
     ]
    }
   ],
   "source": [
    "%pip install imbalanced-learn"
   ]
  },
  {
   "cell_type": "code",
   "execution_count": 10,
   "metadata": {},
   "outputs": [],
   "source": [
    "#splitting the datasets into train and test in ratio of 25% of test data and 75% for training the model(s)\n",
    "X_train, X_test, y_train, y_test = train_test_split(X,y, test_size = .25, random_state=42)"
   ]
  },
  {
   "cell_type": "code",
   "execution_count": 11,
   "metadata": {},
   "outputs": [
    {
     "name": "stdout",
     "output_type": "stream",
     "text": [
      "**********Training Data**********\n",
      "(185649, 12)\n",
      "0    179997\n",
      "1      5652\n",
      "Name: isFraud, dtype: int64\n",
      "**********Testing Data**********\n",
      "(61884, 12)\n",
      "0    60035\n",
      "1     1849\n",
      "Name: isFraud, dtype: int64\n"
     ]
    }
   ],
   "source": [
    "print('**********Training Data**********')\n",
    "print(X_train.shape)\n",
    "print(y_train.value_counts())\n",
    "print('**********Testing Data**********')\n",
    "print(X_test.shape)\n",
    "print(y_test.value_counts())"
   ]
  },
  {
   "cell_type": "code",
   "execution_count": 12,
   "metadata": {},
   "outputs": [
    {
     "data": {
      "text/plain": [
       "0    62915\n",
       "1      712\n",
       "Name: isFraud, dtype: int64"
      ]
     },
     "execution_count": 12,
     "metadata": {},
     "output_type": "execute_result"
    }
   ],
   "source": [
    "X_uD = unseenData.drop('isFraud', axis = 1)\n",
    "y_uD = unseenData.isFraud\n",
    "y_uD.value_counts()"
   ]
  },
  {
   "cell_type": "code",
   "execution_count": 13,
   "metadata": {},
   "outputs": [],
   "source": [
    "def searchCV(searchType,model,hyper_param,X,y):\n",
    "    clf = searchType(model,hyper_param, cv = 5,scoring = 'roc_auc')\n",
    "    clf.fit(X,y)\n",
    "    \n",
    "    return clf.best_score_, clf.best_params_\n",
    "\"\"\"\n",
    "def fitBestModel(model,best_params,X,y,X_tst):\n",
    "    \n",
    "    m = model(best_params,class_weight=)\n",
    "    m.fit(X,y)\n",
    "    \n",
    "    getConfusionMatrix(y,getPredictionScore(m,X_tst))\n",
    "    getConfusionMatrixPlot(m,X_tst,y)\n",
    "\"\"\"\n",
    "\n",
    "def getModelScores(model,X_tst,y_tst):\n",
    "    \n",
    "    print('Precision Score for the model:', precision_score(y_tst,model.predict(X_tst)))\n",
    "    print('Recall score for the model:',recall_score(y_tst,model.predict(X_tst)))\n",
    "    \n",
    "    getConfusionMatrix(y_tst,model.predict(X_tst))\n",
    "    getConfusionMatrixPlot(model,X_tst,y_tst)\n",
    "\n",
    "def getConfusionMatrix(act,pred):\n",
    "    \n",
    "     print(confusion_matrix(act,pred))\n",
    "\n",
    "def getConfusionMatrixPlot(m,X_tst,y):\n",
    "    \n",
    "    print(plot_confusion_matrix(m,X_tst,y))\n",
    "\n",
    "def plotFprTpr(m,X_tst,y_tst):\n",
    "    \n",
    "    yhat = model.predict_proba(X_tst)\n",
    "\n",
    "    pos_probs = yhat[:, 1]\n",
    "    # plot no skill roc curve\n",
    "    plt.plot([0, 1], [0, 1], linestyle='--', label='Random')\n",
    "    # calculate roc curve for model\n",
    "    fpr, tpr, threshold = roc_curve(y_tst, pos_probs)\n",
    "    # plot model roc curve\n",
    "    plt.plot(fpr, tpr, marker='.', label=m)\n",
    "    # axis labels\n",
    "    plt.xlabel('False Positive Rate')\n",
    "    plt.ylabel('True Positive Rate')\n",
    "    # show the legend\n",
    "    plt.legend()\n",
    "    # show the plot\n",
    "    plt.show()"
   ]
  },
  {
   "cell_type": "markdown",
   "metadata": {},
   "source": [
    "# Algorithm 1: Logistic Regression"
   ]
  },
  {
   "cell_type": "code",
   "execution_count": 14,
   "metadata": {},
   "outputs": [],
   "source": [
    "#Defining Hyperparameter for tuning the model and getting best parameter for the model\n",
    "c = np.logspace(-3,3,10)\n",
    "param = {'C':c}"
   ]
  },
  {
   "cell_type": "code",
   "execution_count": 15,
   "metadata": {},
   "outputs": [],
   "source": [
    "model = LogisticRegression(class_weight='balanced')\n",
    "best_scr, best_params = searchCV(GridSearchCV,model,param,X_train,y_train)\n"
   ]
  },
  {
   "cell_type": "code",
   "execution_count": 16,
   "metadata": {},
   "outputs": [
    {
     "name": "stdout",
     "output_type": "stream",
     "text": [
      "Best Score:0.9836428581232879\n",
      "Best Parameters: {'C': 0.001}\n"
     ]
    }
   ],
   "source": [
    "print(\"Best Score:\" + str(best_scr))\n",
    "print(\"Best Parameters: \" + str(best_params))\n",
    "best_c = best_params['C']"
   ]
  },
  {
   "cell_type": "code",
   "execution_count": 17,
   "metadata": {},
   "outputs": [
    {
     "data": {
      "text/plain": [
       "LogisticRegression(C=0.001, class_weight='balanced')"
      ]
     },
     "execution_count": 17,
     "metadata": {},
     "output_type": "execute_result"
    }
   ],
   "source": [
    "model = LogisticRegression(C= best_c,class_weight = 'balanced')\n",
    "model.fit(X_train,y_train)"
   ]
  },
  {
   "cell_type": "code",
   "execution_count": 18,
   "metadata": {},
   "outputs": [
    {
     "name": "stdout",
     "output_type": "stream",
     "text": [
      "Precision Score for the model: 0.19117647058823528\n",
      "Recall score for the model: 0.9772850189291509\n",
      "[[52390  7645]\n",
      " [   42  1807]]\n",
      "<sklearn.metrics._plot.confusion_matrix.ConfusionMatrixDisplay object at 0x000001A005BA6D90>\n"
     ]
    },
    {
     "data": {
      "image/png": "[encoded data removed]",
      "text/plain": [
       "<Figure size 432x288 with 2 Axes>"
      ]
     },
     "metadata": {
      "needs_background": "light"
     },
     "output_type": "display_data"
    }
   ],
   "source": [
    "getModelScores(model,X_test,y_test)"
   ]
  },
  {
   "cell_type": "code",
   "execution_count": 19,
   "metadata": {},
   "outputs": [
    {
     "data": {
      "image/png": "[encoded data removed]",
      "text/plain": [
       "<Figure size 432x288 with 1 Axes>"
      ]
     },
     "metadata": {
      "needs_background": "light"
     },
     "output_type": "display_data"
    }
   ],
   "source": [
    "plotFprTpr(model,X_test,y_test)"
   ]
  },
  {
   "cell_type": "code",
   "execution_count": 20,
   "metadata": {},
   "outputs": [
    {
     "name": "stdout",
     "output_type": "stream",
     "text": [
      "Precision Score for the model: 0.07112927950945325\n",
      "Recall score for the model: 0.9775280898876404\n",
      "[[53826  9089]\n",
      " [   16   696]]\n",
      "<sklearn.metrics._plot.confusion_matrix.ConfusionMatrixDisplay object at 0x000001A005BA6E50>\n"
     ]
    },
    {
     "data": {
      "image/png": "[encoded data removed]",
      "text/plain": [
       "<Figure size 432x288 with 2 Axes>"
      ]
     },
     "metadata": {
      "needs_background": "light"
     },
     "output_type": "display_data"
    }
   ],
   "source": [
    "# Testing the model on unseen data\n",
    "getModelScores(model,X_uD,y_uD)"
   ]
  },
  {
   "cell_type": "code",
   "execution_count": 21,
   "metadata": {},
   "outputs": [
    {
     "data": {
      "image/png": "[encoded data removed]",
      "text/plain": [
       "<Figure size 432x288 with 1 Axes>"
      ]
     },
     "metadata": {
      "needs_background": "light"
     },
     "output_type": "display_data"
    }
   ],
   "source": [
    "plotFprTpr(model,X_uD,y_uD)"
   ]
  },
  {
   "cell_type": "markdown",
   "metadata": {},
   "source": [
    "# Algorithm 2: RandomForestClassifier"
   ]
  },
  {
   "cell_type": "code",
   "execution_count": 22,
   "metadata": {},
   "outputs": [],
   "source": [
    "est = np.linspace(70,120,10).astype('int64')\n",
    "depth = np.linspace(2,8,4).astype('int64')\n",
    "param = {'n_estimators':est,'max_depth':depth}"
   ]
  },
  {
   "cell_type": "code",
   "execution_count": 23,
   "metadata": {},
   "outputs": [],
   "source": [
    "rand = RandomForestClassifier(class_weight='balanced')\n",
    "best_scr, best_params = searchCV(RandomizedSearchCV,rand,param,X_train,y_train)\n"
   ]
  },
  {
   "cell_type": "code",
   "execution_count": 24,
   "metadata": {},
   "outputs": [
    {
     "name": "stdout",
     "output_type": "stream",
     "text": [
      "Best Score:0.996867465536057\n",
      "Best Parameters: {'n_estimators': 114, 'max_depth': 6}\n"
     ]
    }
   ],
   "source": [
    "print(\"Best Score:\" + str(best_scr))\n",
    "print(\"Best Parameters: \" + str(best_params))\n",
    "best_est = best_params['n_estimators']\n",
    "best_depth = best_params['max_depth']"
   ]
  },
  {
   "cell_type": "code",
   "execution_count": 25,
   "metadata": {},
   "outputs": [
    {
     "data": {
      "text/plain": [
       "RandomForestClassifier(class_weight='balanced', max_depth=6, n_estimators=114)"
      ]
     },
     "execution_count": 25,
     "metadata": {},
     "output_type": "execute_result"
    }
   ],
   "source": [
    "rand = RandomForestClassifier(n_estimators = best_est,max_depth = best_depth,class_weight='balanced')\n",
    "rand.fit(X_train,y_train)"
   ]
  },
  {
   "cell_type": "code",
   "execution_count": 26,
   "metadata": {},
   "outputs": [
    {
     "name": "stdout",
     "output_type": "stream",
     "text": [
      "Precision Score for the model: 0.45855649069115023\n",
      "Recall score for the model: 0.9724175229853975\n",
      "[[57912  2123]\n",
      " [   51  1798]]\n",
      "<sklearn.metrics._plot.confusion_matrix.ConfusionMatrixDisplay object at 0x000001A00908DCA0>\n"
     ]
    },
    {
     "data": {
      "image/png": "[encoded data removed]",
      "text/plain": [
       "<Figure size 432x288 with 2 Axes>"
      ]
     },
     "metadata": {
      "needs_background": "light"
     },
     "output_type": "display_data"
    }
   ],
   "source": [
    "getModelScores(rand, X_test, y_test)"
   ]
  },
  {
   "cell_type": "code",
   "execution_count": 27,
   "metadata": {},
   "outputs": [
    {
     "data": {
      "image/png": "[encoded data removed]",
      "text/plain": [
       "<Figure size 432x288 with 1 Axes>"
      ]
     },
     "metadata": {
      "needs_background": "light"
     },
     "output_type": "display_data"
    }
   ],
   "source": [
    "plotFprTpr(rand, X_test, y_test)"
   ]
  },
  {
   "cell_type": "code",
   "execution_count": 28,
   "metadata": {},
   "outputs": [
    {
     "name": "stdout",
     "output_type": "stream",
     "text": [
      "Precision Score for the model: 0.21400183430143688\n",
      "Recall score for the model: 0.9831460674157303\n",
      "[[60344  2571]\n",
      " [   12   700]]\n",
      "<sklearn.metrics._plot.confusion_matrix.ConfusionMatrixDisplay object at 0x000001A037E10310>\n"
     ]
    },
    {
     "data": {
      "image/png": "[encoded data removed]",
      "text/plain": [
       "<Figure size 432x288 with 2 Axes>"
      ]
     },
     "metadata": {
      "needs_background": "light"
     },
     "output_type": "display_data"
    }
   ],
   "source": [
    "# Testing the model on unseen data\n",
    "getModelScores(rand, X_uD, y_uD)"
   ]
  },
  {
   "cell_type": "code",
   "execution_count": 29,
   "metadata": {},
   "outputs": [
    {
     "data": {
      "image/png": "[encoded data removed]",
      "text/plain": [
       "<Figure size 432x288 with 1 Axes>"
      ]
     },
     "metadata": {
      "needs_background": "light"
     },
     "output_type": "display_data"
    }
   ],
   "source": [
    "plotFprTpr(rand, X_uD, y_uD)"
   ]
  },
  {
   "cell_type": "markdown",
   "metadata": {},
   "source": [
    "By limiting the number of non fraudulent transactions we are able to get decent scores for Precision and Recall. However, in a production environment the model would be exptected to all have a loe False Positive Rate and hence a better Precision. \n",
    "The following segment deals with methods to solve for the above."
   ]
  },
  {
   "cell_type": "markdown",
   "metadata": {},
   "source": [
    "# Applying SMOTE"
   ]
  },
  {
   "cell_type": "code",
   "execution_count": 30,
   "metadata": {},
   "outputs": [],
   "source": [
    "from imblearn.over_sampling import SMOTE"
   ]
  },
  {
   "cell_type": "code",
   "execution_count": 31,
   "metadata": {},
   "outputs": [
    {
     "name": "stdout",
     "output_type": "stream",
     "text": [
      "0    240032\n",
      "1      7501\n",
      "Name: isFraud, dtype: int64\n"
     ]
    }
   ],
   "source": [
    "df_smote = trimmed_df\n",
    "X_smt = df_smote.drop('isFraud', axis = 1)\n",
    "y_smt = df_smote.isFraud\n",
    "print(y_smt.value_counts())"
   ]
  },
  {
   "cell_type": "code",
   "execution_count": 32,
   "metadata": {},
   "outputs": [
    {
     "data": {
      "text/plain": [
       "1    240032\n",
       "0    240032\n",
       "Name: isFraud, dtype: int64"
      ]
     },
     "execution_count": 32,
     "metadata": {},
     "output_type": "execute_result"
    }
   ],
   "source": [
    "smt = SMOTE()\n",
    "X_smote, y_smote = smt.fit_resample(X_smt,y_smt)\n",
    "y_smote.value_counts()"
   ]
  },
  {
   "cell_type": "code",
   "execution_count": 33,
   "metadata": {},
   "outputs": [],
   "source": [
    "X_tr_smote,X_test_smote,y_tr_smote,y_test_smote = train_test_split(X_smote, y_smote,test_size=.25)"
   ]
  },
  {
   "cell_type": "markdown",
   "metadata": {},
   "source": [
    "### Logistic Regression with SMOTE"
   ]
  },
  {
   "cell_type": "code",
   "execution_count": 41,
   "metadata": {},
   "outputs": [
    {
     "data": {
      "text/plain": [
       "LogisticRegression(C=7.742636826811278e-05, class_weight='balanced')"
      ]
     },
     "execution_count": 41,
     "metadata": {},
     "output_type": "execute_result"
    }
   ],
   "source": [
    "c = np.logspace(-5,3,10)\n",
    "param = {'C':c}\n",
    "\n",
    "model = LogisticRegression(class_weight='balanced')\n",
    "best_scr, best_params = searchCV(GridSearchCV,model,param,X_tr_smote,y_tr_smote)\n",
    "\n",
    "\n",
    "logreg = LogisticRegression(C=best_params['C'],class_weight = 'balanced')\n",
    "logreg.fit(X_tr_smote,y_tr_smote)"
   ]
  },
  {
   "cell_type": "code",
   "execution_count": 42,
   "metadata": {},
   "outputs": [
    {
     "name": "stdout",
     "output_type": "stream",
     "text": [
      "Precision Score for the model: 0.8711854934776534\n",
      "Recall score for the model: 0.9848215324766005\n",
      "[[51106  8759]\n",
      " [  913 59238]]\n",
      "<sklearn.metrics._plot.confusion_matrix.ConfusionMatrixDisplay object at 0x000001A03EBA5B80>\n"
     ]
    },
    {
     "data": {
      "image/png": "[encoded data removed]",
      "text/plain": [
       "<Figure size 432x288 with 2 Axes>"
      ]
     },
     "metadata": {
      "needs_background": "light"
     },
     "output_type": "display_data"
    }
   ],
   "source": [
    "getModelScores(logreg,X_test_smote,y_test_smote)"
   ]
  },
  {
   "cell_type": "code",
   "execution_count": 45,
   "metadata": {},
   "outputs": [
    {
     "name": "stdout",
     "output_type": "stream",
     "text": [
      "Precision Score for the model: 0.06431343559416004\n",
      "Recall score for the model: 0.9775280898876404\n",
      "[[52789 10126]\n",
      " [   16   696]]\n",
      "<sklearn.metrics._plot.confusion_matrix.ConfusionMatrixDisplay object at 0x000001A03EB9B1C0>\n"
     ]
    },
    {
     "data": {
      "image/png": "[encoded data removed]",
      "text/plain": [
       "<Figure size 432x288 with 2 Axes>"
      ]
     },
     "metadata": {
      "needs_background": "light"
     },
     "output_type": "display_data"
    }
   ],
   "source": [
    "getModelScores(logreg,X_uD,y_uD)"
   ]
  },
  {
   "cell_type": "markdown",
   "metadata": {},
   "source": [
    "## Random Forest with SMOTE"
   ]
  },
  {
   "cell_type": "code",
   "execution_count": 51,
   "metadata": {},
   "outputs": [],
   "source": [
    "est = np.linspace(20,150,15).astype('int64')\n",
    "depth = np.linspace(2,8,4).astype('int64')\n",
    "param = {'n_estimators':est,'max_depth':depth}\n",
    "\n",
    "rand = RandomForestClassifier(class_weight='balanced')\n",
    "best_scr, best_params = searchCV(RandomizedSearchCV,rand,param,X_tr_smote,y_tr_smote)"
   ]
  },
  {
   "cell_type": "code",
   "execution_count": 48,
   "metadata": {},
   "outputs": [
    {
     "data": {
      "text/plain": [
       "RandomForestClassifier(class_weight='balanced', max_depth=8, n_estimators=150)"
      ]
     },
     "execution_count": 48,
     "metadata": {},
     "output_type": "execute_result"
    }
   ],
   "source": [
    "\n",
    "best_est = best_params['n_estimators']\n",
    "best_depth = best_params['max_depth']\n",
    "\n",
    "rand = RandomForestClassifier(n_estimators = best_est,max_depth = best_depth,class_weight='balanced')\n",
    "rand.fit(X_tr_smote,y_tr_smote)\n"
   ]
  },
  {
   "cell_type": "code",
   "execution_count": 49,
   "metadata": {},
   "outputs": [
    {
     "name": "stdout",
     "output_type": "stream",
     "text": [
      "Precision Score for the model: 0.9718645606979535\n",
      "Recall score for the model: 0.9963425379461688\n",
      "[[58130  1735]\n",
      " [  220 59931]]\n",
      "<sklearn.metrics._plot.confusion_matrix.ConfusionMatrixDisplay object at 0x000001A03E91FDF0>\n"
     ]
    },
    {
     "data": {
      "image/png": "[encoded data removed]",
      "text/plain": [
       "<Figure size 432x288 with 2 Axes>"
      ]
     },
     "metadata": {
      "needs_background": "light"
     },
     "output_type": "display_data"
    }
   ],
   "source": [
    "getModelScores(rand,X_test_smote,y_test_smote)"
   ]
  },
  {
   "cell_type": "code",
   "execution_count": 50,
   "metadata": {},
   "outputs": [
    {
     "name": "stdout",
     "output_type": "stream",
     "text": [
      "Precision Score for the model: 0.24446749654218533\n",
      "Recall score for the model: 0.9929775280898876\n",
      "[[60730  2185]\n",
      " [    5   707]]\n",
      "<sklearn.metrics._plot.confusion_matrix.ConfusionMatrixDisplay object at 0x000001A03FAABEB0>\n"
     ]
    },
    {
     "data": {
      "image/png": "[encoded data removed]",
      "text/plain": [
       "<Figure size 432x288 with 2 Axes>"
      ]
     },
     "metadata": {
      "needs_background": "light"
     },
     "output_type": "display_data"
    }
   ],
   "source": [
    "getModelScores(rand,X_uD,y_uD)"
   ]
  },
  {
   "cell_type": "markdown",
   "metadata": {},
   "source": [
    "# Model Summary\n",
    "<font color = 'blue'>\n",
    "\n",
    "\n",
    "### Without handling class imbalance\n",
    "| Model | Precision | Recall | Precision - Unseen data | Recall - Unseen data |\n",
    "| --- | --- | --- | --- | --- |\n",
    "| Logistic Regression | .19 | .977 | .07 | .977 | \n",
    "| Random Forest | .45 | .972 | .21 | .983 |\n",
    "\n",
    "### Applying SMOTE\n",
    "| Model | Precision | Recall | Precision - Unseen data | Recall - Unseen data |\n",
    "| --- | --- | --- | --- | --- |\n",
    "| Logistic Regression | .87 | .985 | .06 | .977 | \n",
    "| Random Forest | .97 | .997 | .24 | .993 | \n",
    "\n",
    "<b> Random forest after applying SMOTE technique performs best amongst all models\n",
    "</font>"
   ]
  }
 ],
 "metadata": {
  "kernelspec": {
   "display_name": "Python 3",
   "language": "python",
   "name": "python3"
  },
  "language_info": {
   "codemirror_mode": {
    "name": "ipython",
    "version": 3
   },
   "file_extension": ".py",
   "mimetype": "text/x-python",
   "name": "python",
   "nbconvert_exporter": "python",
   "pygments_lexer": "ipython3",
   "version": "3.8.5"
  }
 },
 "nbformat": 4,
 "nbformat_minor": 2
}
